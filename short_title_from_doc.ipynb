{
 "cells": [
  {
   "metadata": {},
   "cell_type": "raw",
   "source": "In this notebook, we experiment on how to extract a title from a document's H2 and H3 tags",
   "id": "a5364c23c35ae52a"
  },
  {
   "cell_type": "code",
   "id": "initial_id",
   "metadata": {
    "collapsed": true,
    "ExecuteTime": {
     "end_time": "2025-02-17T01:49:03.457357Z",
     "start_time": "2025-02-17T01:49:03.114249Z"
    }
   },
   "source": [
    "import ollama\n",
    "import  bs4"
   ],
   "outputs": [],
   "execution_count": 1
  },
  {
   "metadata": {},
   "cell_type": "markdown",
   "source": "",
   "id": "f1cc5b6eb0236135"
  },
  {
   "metadata": {
    "ExecuteTime": {
     "end_time": "2025-02-17T01:49:06.111083Z",
     "start_time": "2025-02-17T01:49:06.107518Z"
    }
   },
   "cell_type": "code",
   "source": "sample_file = \"/home/rolanvc/LLMs/scrapeLaws/data/decisions/1996/Apr/A.M. No. P-95-1133.html\"\n",
   "id": "4450d205eb89756a",
   "outputs": [],
   "execution_count": 2
  },
  {
   "metadata": {
    "ExecuteTime": {
     "end_time": "2025-02-17T01:49:08.416987Z",
     "start_time": "2025-02-17T01:49:08.404794Z"
    }
   },
   "cell_type": "code",
   "source": [
    "the_file = open(sample_file, \"r\")\n",
    "soup = bs4.BeautifulSoup(the_file, \"lxml\")\n",
    "title = soup.h3.text\n",
    "subtitle = soup.h2.text\n",
    "print(f\"title: {title}, subtitle: {subtitle}\")"
   ],
   "id": "8c71b03f635e1559",
   "outputs": [
    {
     "name": "stdout",
     "output_type": "stream",
     "text": [
      "title: MACARIO S. FLORES, COMPLAINANT, VS. NONILON A. CANIYA, DEPUTY SHERIFF, REGIONAL TRIAL COURT, IMUS, CAVITE, RESPONDENT.\n",
      "D E C I S I O N, subtitle: EN BANC\n"
     ]
    }
   ],
   "execution_count": 3
  }
 ],
 "metadata": {
  "kernelspec": {
   "display_name": "Python 3",
   "language": "python",
   "name": "python3"
  },
  "language_info": {
   "codemirror_mode": {
    "name": "ipython",
    "version": 2
   },
   "file_extension": ".py",
   "mimetype": "text/x-python",
   "name": "python",
   "nbconvert_exporter": "python",
   "pygments_lexer": "ipython2",
   "version": "2.7.6"
  }
 },
 "nbformat": 4,
 "nbformat_minor": 5
}
