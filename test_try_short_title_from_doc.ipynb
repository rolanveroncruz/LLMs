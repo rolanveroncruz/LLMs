{
 "cells": [
  {
   "metadata": {
    "ExecuteTime": {
     "end_time": "2025-02-18T08:17:14.057540Z",
     "start_time": "2025-02-18T08:17:14.049888Z"
    }
   },
   "cell_type": "code",
   "source": [
    "from langchain_community.document_loaders import UnstructuredHTMLLoader\n",
    "from gem_funcs import get_short_title_gemini, make_brief\n",
    "\n"
   ],
   "id": "9934e0c972870f40",
   "outputs": [],
   "execution_count": 31
  },
  {
   "metadata": {
    "ExecuteTime": {
     "end_time": "2025-02-18T08:17:38.001962Z",
     "start_time": "2025-02-18T08:17:36.465764Z"
    }
   },
   "cell_type": "code",
   "source": [
    "long_title = \"EXCHANGE OF NOTES CONSTITUTING A SUPPLEMENTARY AGREEMENT FOR AIR SERVICES BETWEEN THE REPUBLIC OF THE PHILIPPINES AND SWEDEN\"\n",
    "sub_title = \"December 17, 1969\"\n",
    "short_title = get_short_title_gemini(long_title, sub_title)\n",
    "print(short_title)\n"
   ],
   "id": "8c4660a31f0dec44",
   "outputs": [
    {
     "name": "stdout",
     "output_type": "stream",
     "text": [
      "<title>Philippine-Sweden Air Services Agreement (December 1969)</title>\n"
     ]
    }
   ],
   "execution_count": 33
  },
  {
   "metadata": {
    "ExecuteTime": {
     "end_time": "2025-02-18T08:17:55.702325Z",
     "start_time": "2025-02-18T08:17:42.210537Z"
    }
   },
   "cell_type": "code",
   "source": [
    "sample_file = \"/home/rolanvc/LLMs/scrapeLaws/data/treaties/bilateral/1954/Aug/EXCHANGE OF NOTES CONSTITUTING A SUPPLEMENTARY AGREEMENT FOR AIR SERVICES BETWEEN THE REPUBLIC OF THE PHILIPPINES AND SWEDEN .html\"\n",
    "docs = UnstructuredHTMLLoader(sample_file).load()\n",
    "contents = summary = make_brief(docs[0].page_content)\n",
    "print(contents)"
   ],
   "id": "40c0049cdf64af55",
   "outputs": [
    {
     "name": "stdout",
     "output_type": "stream",
     "text": [
      "```markdown\n",
      "**Legal Document Summary: Exchange of Notes on Air Services Agreement (Philippines-Sweden, 1954)**\n",
      "\n",
      "**Overview:**\n",
      "\n",
      "This document constitutes a supplementary agreement via an exchange of notes, granting Sweden's designated airline, initially Aktiebolaget Aerotransport (A.B.A.)/Scandinavian Air Lines System (SAS), temporary authorization to operate air services to Manila, Philippines. The agreement entered into force on October 20, 1954. It establishes specific conditions for this authorization pending a formal bilateral air agreement.\n",
      "\n",
      "**Key Provisions & Obligations:**\n",
      "\n",
      "*   **Grant of Temporary Authorization (Para 1):** The Philippines grants temporary authorization to a Swedish designated airline (A.B.A./SAS) to operate air services to Manila.\n",
      "*   **Revocability (Clause 1):** The authorization is explicitly revocable \"at any time at the pleasure of the Philippine Government.\" *This clause presents a significant risk of unilateral termination without cause.*\n",
      "*   **Frequency and Route (Clause 2):** Limited to a maximum of two frequencies per week in each direction on the route: Sweden via intermediate points to Manila and beyond.\n",
      "*   **Traffic Rights Restrictions (Clause 3 & 4):** No traffic rights allowed between Manila and Bangkok, and between Manila and Tokyo. Also, traffic rights to any point in Asia/Far East served or previously served by Philippine Airlines (PAL) are forfeited by the Swedish airline upon PAL resuming operations.\n",
      "*   **Compliance with Philippine Laws (Clauses 5 & 6):** Air service operation must comply with regulations from the Philippine Civil Aeronautics Board (CAB), Philippine Aeronautics Administration, Philippine laws on admission/departure of passengers, crew, and cargo (entry, clearance, immigration, passports, customs, quarantine). Rates must be CAB-approved.\n",
      "*   **Information Requirements (Clause 7):** The Swedish airline must supply timetables, tariff schedules, and operational information to the Civil Aeronautics Administrator, including monthly statements of services operated. *This establishes a reporting obligation.*\n",
      "*   **Reciprocity (Clause 8):** Sweden must grant reciprocal rights to the Philippines upon request, pending a formal bilateral agreement. *This creates a future obligation on Sweden upon the Philippines making a request.*\n",
      "*   **SAS Operations (Understanding 1 & 2):** A.B.A., cooperating with D.N.L. and D.D.L. under the SAS designation, can use the aircraft, crews, and equipment of any of the three airlines. Swedish authorities and A.B.A. accept full responsibility for SAS operations. *This clarifies operational flexibility but also liability concerns.*\n",
      "*   **Filing through PAL:** The Swedish airline can fulfil it's filing obligation, by filing required information through Philippine Airlines Inc. acting as general agents.\n",
      "\n",
      "**Liabilities:**\n",
      "\n",
      "*   The agreement holds the Swedish government and A.B.A. (SAS) responsible for the actions of A.B.A.'s aircraft, crews, and equipment, as well as those of D.N.L and D.D.L. when operating under the SAS designation.\n",
      "*   Non-compliance with Philippine laws and regulations opens A.B.A./SAS to potential sanctions, fines, or revocation of the authorization.\n",
      "\n",
      "**Potential Risks:**\n",
      "\n",
      "*   **Unilateral Revocation:** Clause 1's revocability at the Philippine government's pleasure poses a significant risk of arbitrary termination. This lack of certainty could negatively impact the airline's investment and operational planning.\n",
      "*   **Competition with PAL:** Clause 4's restriction on traffic rights could significantly curtail the Swedish airline's operations if PAL expands its routes. *This is a dynamic risk dependent on PAL's future business decisions.*\n",
      "*   **Regulatory Compliance:** The need to comply with potentially complex and evolving Philippine aviation regulations necessitates robust legal and operational oversight.\n",
      "*   **No Dispute Resolution Mechanism:** The agreement lacks a dispute resolution mechanism, which could lead to uncertainty and difficulties in resolving conflicts.\n",
      "\n",
      "**Case Law & Statutory References:**\n",
      "\n",
      "*   Philippine Civil Aeronautics Act: This Act outlines the powers and functions of the Philippine Civil Aeronautics Board (CAB) and the Civil Aeronautics Administration (CAA).\n",
      "*   Philippine Immigration Act: Governs the entry, stay, and departure of foreigners.\n",
      "*   Philippine Customs Law: Regulates the import and export of goods.\n",
      "*   Relevant cases concerning revocation of licenses and permits under Philippine administrative law would be relevant in assessing the enforceability of Clause 1.\n",
      "\n",
      "**Ambiguous or Contentious Clauses:**\n",
      "\n",
      "*   **\"Pleasure of the Philippine Government\" (Clause 1):** This language is broad and potentially subject to abuse. It's unclear what constitutes sufficient grounds for revocation.\n",
      "*   **\"Any point previously served by it\" (Clause 4):** The scope of \"previously served\" is unclear. Is it routes that PAL operated once and then discontinued, or only routes PAL operated until recently?\n",
      "*   **Lack of Definition:** Many terms, such as “intermediate points”, “beyond”, or “full traffic rights” are open to interpretation and are not explicitly defined within the document.\n",
      "\n",
      "**Recommendations:**\n",
      "\n",
      "*   Advise client on the precarious nature of the agreement due to the revocability clause.\n",
      "*   Monitor PAL's route expansion plans to assess the potential impact of Clause 4.\n",
      "*   Ensure strict compliance with all Philippine aviation regulations.\n",
      "*   Seek clarification from the Philippine government on the interpretation of ambiguous clauses.\n",
      "*   Consider initiating negotiations for a formal bilateral air agreement with a robust dispute resolution mechanism.\n",
      "```\n",
      "\n"
     ]
    }
   ],
   "execution_count": 34
  }
 ],
 "metadata": {
  "kernelspec": {
   "display_name": "Python 3",
   "language": "python",
   "name": "python3"
  },
  "language_info": {
   "codemirror_mode": {
    "name": "ipython",
    "version": 2
   },
   "file_extension": ".py",
   "mimetype": "text/x-python",
   "name": "python",
   "nbconvert_exporter": "python",
   "pygments_lexer": "ipython2",
   "version": "2.7.6"
  }
 },
 "nbformat": 4,
 "nbformat_minor": 5
}
